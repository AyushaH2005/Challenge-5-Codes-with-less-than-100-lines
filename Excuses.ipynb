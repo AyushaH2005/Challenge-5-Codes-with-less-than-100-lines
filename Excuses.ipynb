{
 "cells": [
  {
   "cell_type": "code",
   "execution_count": 19,
   "id": "8252e027-1cc9-4f44-ab60-c523f42f3533",
   "metadata": {},
   "outputs": [
    {
     "name": "stdout",
     "output_type": "stream",
     "text": [
      " Excuse: My cat got stuck in a black hole\n"
     ]
    }
   ],
   "source": [
    "import random\n",
    "\n",
    "reasons = [\n",
    "    \"My {item} got stuck in {place}\",\n",
    "    \"I was debugging {tech} and fell asleep\",\n",
    "    \"I thought today was {wrong_day}\",\n",
    "    \"I am stuck in {item}\",\n",
    "]\n",
    "\n",
    "print(\" Excuse:\", random.choice(reasons).format(\n",
    "    item=random.choice([\"laptop\", \"toaster\", \"cat\",\"lift\"]),\n",
    "    place=random.choice([\"the fridge\", \"Zoom breakout room\", \"a black hole\"]),\n",
    "    tech=random.choice([\"TensorFlow\", \"LaTeX\", \"React Native\"]),\n",
    "    wrong_day=random.choice([\"Saturday\", \"next week\", \"yesterday\"])\n",
    "))\n"
   ]
  },
  {
   "cell_type": "code",
   "execution_count": null,
   "id": "3491cc3e-799e-4710-90c0-73e854dd2e1a",
   "metadata": {},
   "outputs": [],
   "source": []
  }
 ],
 "metadata": {
  "kernelspec": {
   "display_name": "Python 3 (ipykernel)",
   "language": "python",
   "name": "python3"
  },
  "language_info": {
   "codemirror_mode": {
    "name": "ipython",
    "version": 3
   },
   "file_extension": ".py",
   "mimetype": "text/x-python",
   "name": "python",
   "nbconvert_exporter": "python",
   "pygments_lexer": "ipython3",
   "version": "3.12.7"
  }
 },
 "nbformat": 4,
 "nbformat_minor": 5
}
